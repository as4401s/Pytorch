{
 "cells": [
  {
   "cell_type": "code",
   "execution_count": 1,
   "id": "4c10aa7c",
   "metadata": {},
   "outputs": [],
   "source": [
    "import numpy as np\n",
    "import torch\n",
    "import torch.nn as nn\n",
    "import pandas as pd\n",
    "from sklearn.preprocessing import StandardScaler\n",
    "from torch.utils.data import Dataset"
   ]
  },
  {
   "cell_type": "code",
   "execution_count": 2,
   "id": "0433edba",
   "metadata": {},
   "outputs": [
    {
     "data": {
      "text/html": [
       "<div>\n",
       "<style scoped>\n",
       "    .dataframe tbody tr th:only-of-type {\n",
       "        vertical-align: middle;\n",
       "    }\n",
       "\n",
       "    .dataframe tbody tr th {\n",
       "        vertical-align: top;\n",
       "    }\n",
       "\n",
       "    .dataframe thead th {\n",
       "        text-align: right;\n",
       "    }\n",
       "</style>\n",
       "<table border=\"1\" class=\"dataframe\">\n",
       "  <thead>\n",
       "    <tr style=\"text-align: right;\">\n",
       "      <th></th>\n",
       "      <th>Number of times pregnant</th>\n",
       "      <th>Plasma glucose concentration</th>\n",
       "      <th>Diastolic blood pressure</th>\n",
       "      <th>Triceps skin fold thickness</th>\n",
       "      <th>2-Hour serum insulin</th>\n",
       "      <th>Body mass index</th>\n",
       "      <th>Age</th>\n",
       "      <th>Class</th>\n",
       "    </tr>\n",
       "  </thead>\n",
       "  <tbody>\n",
       "    <tr>\n",
       "      <th>0</th>\n",
       "      <td>6</td>\n",
       "      <td>148</td>\n",
       "      <td>72</td>\n",
       "      <td>35</td>\n",
       "      <td>0</td>\n",
       "      <td>33.6</td>\n",
       "      <td>50</td>\n",
       "      <td>positive</td>\n",
       "    </tr>\n",
       "    <tr>\n",
       "      <th>1</th>\n",
       "      <td>1</td>\n",
       "      <td>85</td>\n",
       "      <td>66</td>\n",
       "      <td>29</td>\n",
       "      <td>0</td>\n",
       "      <td>26.6</td>\n",
       "      <td>31</td>\n",
       "      <td>negative</td>\n",
       "    </tr>\n",
       "    <tr>\n",
       "      <th>2</th>\n",
       "      <td>8</td>\n",
       "      <td>183</td>\n",
       "      <td>64</td>\n",
       "      <td>0</td>\n",
       "      <td>0</td>\n",
       "      <td>23.3</td>\n",
       "      <td>32</td>\n",
       "      <td>positive</td>\n",
       "    </tr>\n",
       "    <tr>\n",
       "      <th>3</th>\n",
       "      <td>1</td>\n",
       "      <td>89</td>\n",
       "      <td>66</td>\n",
       "      <td>23</td>\n",
       "      <td>94</td>\n",
       "      <td>28.1</td>\n",
       "      <td>21</td>\n",
       "      <td>negative</td>\n",
       "    </tr>\n",
       "    <tr>\n",
       "      <th>4</th>\n",
       "      <td>0</td>\n",
       "      <td>137</td>\n",
       "      <td>40</td>\n",
       "      <td>35</td>\n",
       "      <td>168</td>\n",
       "      <td>43.1</td>\n",
       "      <td>33</td>\n",
       "      <td>positive</td>\n",
       "    </tr>\n",
       "  </tbody>\n",
       "</table>\n",
       "</div>"
      ],
      "text/plain": [
       "   Number of times pregnant  Plasma glucose concentration  \\\n",
       "0                         6                           148   \n",
       "1                         1                            85   \n",
       "2                         8                           183   \n",
       "3                         1                            89   \n",
       "4                         0                           137   \n",
       "\n",
       "   Diastolic blood pressure  Triceps skin fold thickness  \\\n",
       "0                        72                           35   \n",
       "1                        66                           29   \n",
       "2                        64                            0   \n",
       "3                        66                           23   \n",
       "4                        40                           35   \n",
       "\n",
       "   2-Hour serum insulin  Body mass index  Age     Class  \n",
       "0                     0             33.6   50  positive  \n",
       "1                     0             26.6   31  negative  \n",
       "2                     0             23.3   32  positive  \n",
       "3                    94             28.1   21  negative  \n",
       "4                   168             43.1   33  positive  "
      ]
     },
     "execution_count": 2,
     "metadata": {},
     "output_type": "execute_result"
    }
   ],
   "source": [
    "data = pd.read_csv('diabetes.csv')\n",
    "data.head()"
   ]
  },
  {
   "cell_type": "markdown",
   "id": "25041c9c",
   "metadata": {},
   "source": [
    "#### Preprocessing"
   ]
  },
  {
   "cell_type": "code",
   "execution_count": 3,
   "id": "ed98f2bf",
   "metadata": {},
   "outputs": [
    {
     "name": "stdout",
     "output_type": "stream",
     "text": [
      "[[  6.  148.   72.  ...   0.   33.6  50. ]\n",
      " [  1.   85.   66.  ...   0.   26.6  31. ]\n",
      " [  8.  183.   64.  ...   0.   23.3  32. ]\n",
      " ...\n",
      " [  5.  121.   72.  ... 112.   26.2  30. ]\n",
      " [  1.  126.   60.  ...   0.   30.1  47. ]\n",
      " [  1.   93.   70.  ...   0.   30.4  23. ]]\n",
      "(768, 7)\n",
      "768\n"
     ]
    }
   ],
   "source": [
    "x = data.iloc[:,0:-1].values\n",
    "y_string = list(data.iloc[:,-1])\n",
    "\n",
    "print(x)\n",
    "print(x.shape)\n",
    "print(len(y_string))"
   ]
  },
  {
   "cell_type": "code",
   "execution_count": 4,
   "id": "51f342b4",
   "metadata": {},
   "outputs": [],
   "source": [
    "y_int = []\n",
    "\n",
    "for s in y_string:\n",
    "    if s == 'positive':\n",
    "        y_int.append(1)\n",
    "    else:\n",
    "        y_int.append(0)\n",
    "        \n",
    "y = np.array(y_int, dtype='float64')"
   ]
  },
  {
   "cell_type": "code",
   "execution_count": 5,
   "id": "8d9c6e79",
   "metadata": {},
   "outputs": [
    {
     "name": "stdout",
     "output_type": "stream",
     "text": [
      "[[ 0.63994726  0.84832379  0.14964075 ... -0.69289057  0.20401277\n",
      "   1.4259954 ]\n",
      " [-0.84488505 -1.12339636 -0.16054575 ... -0.69289057 -0.68442195\n",
      "  -0.19067191]\n",
      " [ 1.23388019  1.94372388 -0.26394125 ... -0.69289057 -1.10325546\n",
      "  -0.10558415]\n",
      " ...\n",
      " [ 0.3429808   0.00330087  0.14964075 ...  0.27959377 -0.73518964\n",
      "  -0.27575966]\n",
      " [-0.84488505  0.1597866  -0.47073225 ... -0.69289057 -0.24020459\n",
      "   1.17073215]\n",
      " [-0.84488505 -0.8730192   0.04624525 ... -0.69289057 -0.20212881\n",
      "  -0.87137393]]\n"
     ]
    }
   ],
   "source": [
    "# Normalize between [-1,1]\n",
    "# x' = (x-mean)/SD\n",
    "\n",
    "sc = StandardScaler()\n",
    "x = sc.fit_transform(x)\n",
    "\n",
    "print(x)"
   ]
  },
  {
   "cell_type": "code",
   "execution_count": 6,
   "id": "603c0ddc",
   "metadata": {},
   "outputs": [
    {
     "name": "stdout",
     "output_type": "stream",
     "text": [
      "torch.Size([768, 7])\n",
      "torch.Size([768, 1])\n"
     ]
    }
   ],
   "source": [
    "#numpy to torch tensors\n",
    "\n",
    "x = torch.tensor(x)\n",
    "y = torch.tensor(y).unsqueeze(1)\n",
    "\n",
    "print(x.shape)\n",
    "print(y.shape)"
   ]
  },
  {
   "cell_type": "markdown",
   "id": "50c366d3",
   "metadata": {},
   "source": [
    "#### Create Dataset"
   ]
  },
  {
   "cell_type": "code",
   "execution_count": 7,
   "id": "42b3e620",
   "metadata": {},
   "outputs": [],
   "source": [
    "class Dataset(Dataset):\n",
    "    \n",
    "    def __init__(self, x, y):\n",
    "        self.x = x\n",
    "        self.y = y\n",
    "        \n",
    "    def __getitem__(self, index):\n",
    "        return self.x[index], self.y[index]\n",
    "    \n",
    "    def __len__(self):\n",
    "        return len(self.x)"
   ]
  },
  {
   "cell_type": "code",
   "execution_count": 8,
   "id": "f71b7367",
   "metadata": {},
   "outputs": [
    {
     "data": {
      "text/plain": [
       "768"
      ]
     },
     "execution_count": 8,
     "metadata": {},
     "output_type": "execute_result"
    }
   ],
   "source": [
    "dataset = Dataset(x, y)\n",
    "len(dataset)"
   ]
  },
  {
   "cell_type": "code",
   "execution_count": 9,
   "id": "44decad0",
   "metadata": {},
   "outputs": [
    {
     "name": "stdout",
     "output_type": "stream",
     "text": [
      "<torch.utils.data.dataloader.DataLoader object at 0x0000016EB9F6B430>\n"
     ]
    }
   ],
   "source": [
    "#load data to DataLoader for batch processing\n",
    "\n",
    "train_loader = torch.utils.data.DataLoader(dataset = dataset,\n",
    "                                           batch_size = 32,\n",
    "                                           shuffle = True)\n",
    "\n",
    "print(train_loader)"
   ]
  },
  {
   "cell_type": "code",
   "execution_count": 10,
   "id": "57d199fa",
   "metadata": {},
   "outputs": [
    {
     "name": "stdout",
     "output_type": "stream",
     "text": [
      "There is 24 batches in the dataset\n",
      "For one iteration (batch) there is : \n",
      "Data : torch.Size([32, 7])\n",
      "Labels : torch.Size([32, 1])\n"
     ]
    }
   ],
   "source": [
    "print(f'There is {len(train_loader)} batches in the dataset')\n",
    "for (x,y) in train_loader:\n",
    "    print('For one iteration (batch) there is : ')\n",
    "    print(f'Data : {x.shape}')\n",
    "    print(f'Labels : {y.shape}')\n",
    "    break"
   ]
  },
  {
   "cell_type": "markdown",
   "id": "44fbe6ad",
   "metadata": {},
   "source": [
    "#### Building the Model"
   ]
  },
  {
   "cell_type": "code",
   "execution_count": 11,
   "id": "eb5d835f",
   "metadata": {},
   "outputs": [],
   "source": [
    "class Model(nn.Module):\n",
    "    \n",
    "    def __init__ (self, input_features, output_features):\n",
    "        super(Model, self).__init__()\n",
    "        \n",
    "        self.fc1 = nn.Linear(input_features,5)\n",
    "        self.fc2 = nn.Linear(5,4)\n",
    "        self.fc3 = nn.Linear(4,3)\n",
    "        self.fc4 = nn.Linear(3,output_features)\n",
    "        \n",
    "        self.sigmoid = nn.Sigmoid()\n",
    "        self.tanh = nn.Tanh()\n",
    "        \n",
    "    def forward(self, x):\n",
    "        \n",
    "        out = self.fc1(x)\n",
    "        out = self.tanh(out)\n",
    "        out = self.fc2(out)\n",
    "        out = self.tanh(out)\n",
    "        out = self.fc3(out)\n",
    "        out = self.tanh(out)\n",
    "        out = self.fc4(out)\n",
    "        out = self.sigmoid(out)\n",
    "        return out"
   ]
  },
  {
   "cell_type": "code",
   "execution_count": 12,
   "id": "5e5ac7ff",
   "metadata": {},
   "outputs": [],
   "source": [
    "#create the network\n",
    "net = Model(7,1)\n",
    "\n",
    "#binary cross-entropy\n",
    "#size average = True, average the losses over minibatch\n",
    "criterion = torch.nn.BCELoss(reduction='mean')\n",
    "\n",
    "#optimizer = SGD with momentum\n",
    "optimizer = torch.optim.SGD(net.parameters(), lr = 0.1, momentum = 0.9)"
   ]
  },
  {
   "cell_type": "markdown",
   "id": "5b6b93d3",
   "metadata": {},
   "source": [
    "#### Training the network"
   ]
  },
  {
   "cell_type": "code",
   "execution_count": 13,
   "id": "99ccff6c",
   "metadata": {
    "scrolled": false
   },
   "outputs": [
    {
     "name": "stdout",
     "output_type": "stream",
     "text": [
      "Epoch 1/200, Loss: 0.535, Accuracy: 0.781\n",
      "Epoch 2/200, Loss: 0.575, Accuracy: 0.750\n",
      "Epoch 3/200, Loss: 0.362, Accuracy: 0.875\n",
      "Epoch 4/200, Loss: 0.531, Accuracy: 0.688\n",
      "Epoch 5/200, Loss: 0.391, Accuracy: 0.844\n",
      "Epoch 6/200, Loss: 0.423, Accuracy: 0.812\n",
      "Epoch 7/200, Loss: 0.485, Accuracy: 0.750\n",
      "Epoch 8/200, Loss: 0.609, Accuracy: 0.656\n",
      "Epoch 9/200, Loss: 0.571, Accuracy: 0.625\n",
      "Epoch 10/200, Loss: 0.404, Accuracy: 0.781\n",
      "Epoch 11/200, Loss: 0.413, Accuracy: 0.844\n",
      "Epoch 12/200, Loss: 0.712, Accuracy: 0.594\n",
      "Epoch 13/200, Loss: 0.497, Accuracy: 0.719\n",
      "Epoch 14/200, Loss: 0.575, Accuracy: 0.656\n",
      "Epoch 15/200, Loss: 0.458, Accuracy: 0.812\n",
      "Epoch 16/200, Loss: 0.382, Accuracy: 0.812\n",
      "Epoch 17/200, Loss: 0.458, Accuracy: 0.719\n",
      "Epoch 18/200, Loss: 0.486, Accuracy: 0.750\n",
      "Epoch 19/200, Loss: 0.502, Accuracy: 0.656\n",
      "Epoch 20/200, Loss: 0.426, Accuracy: 0.750\n",
      "Epoch 21/200, Loss: 0.390, Accuracy: 0.750\n",
      "Epoch 22/200, Loss: 0.503, Accuracy: 0.844\n",
      "Epoch 23/200, Loss: 0.361, Accuracy: 0.750\n",
      "Epoch 24/200, Loss: 0.486, Accuracy: 0.750\n",
      "Epoch 25/200, Loss: 0.367, Accuracy: 0.844\n",
      "Epoch 26/200, Loss: 0.451, Accuracy: 0.781\n",
      "Epoch 27/200, Loss: 0.515, Accuracy: 0.688\n",
      "Epoch 28/200, Loss: 0.684, Accuracy: 0.625\n",
      "Epoch 29/200, Loss: 0.524, Accuracy: 0.656\n",
      "Epoch 30/200, Loss: 0.326, Accuracy: 0.844\n",
      "Epoch 31/200, Loss: 0.496, Accuracy: 0.750\n",
      "Epoch 32/200, Loss: 0.411, Accuracy: 0.812\n",
      "Epoch 33/200, Loss: 0.596, Accuracy: 0.625\n",
      "Epoch 34/200, Loss: 0.443, Accuracy: 0.781\n",
      "Epoch 35/200, Loss: 0.321, Accuracy: 0.875\n",
      "Epoch 36/200, Loss: 0.580, Accuracy: 0.562\n",
      "Epoch 37/200, Loss: 0.441, Accuracy: 0.844\n",
      "Epoch 38/200, Loss: 0.874, Accuracy: 0.531\n",
      "Epoch 39/200, Loss: 0.311, Accuracy: 0.812\n",
      "Epoch 40/200, Loss: 0.360, Accuracy: 0.781\n",
      "Epoch 41/200, Loss: 0.467, Accuracy: 0.750\n",
      "Epoch 42/200, Loss: 0.427, Accuracy: 0.781\n",
      "Epoch 43/200, Loss: 0.366, Accuracy: 0.781\n",
      "Epoch 44/200, Loss: 0.386, Accuracy: 0.781\n",
      "Epoch 45/200, Loss: 0.583, Accuracy: 0.656\n",
      "Epoch 46/200, Loss: 0.347, Accuracy: 0.844\n",
      "Epoch 47/200, Loss: 0.623, Accuracy: 0.688\n",
      "Epoch 48/200, Loss: 0.281, Accuracy: 0.875\n",
      "Epoch 49/200, Loss: 0.208, Accuracy: 0.938\n",
      "Epoch 50/200, Loss: 0.295, Accuracy: 0.844\n",
      "Epoch 51/200, Loss: 0.404, Accuracy: 0.750\n",
      "Epoch 52/200, Loss: 0.436, Accuracy: 0.750\n",
      "Epoch 53/200, Loss: 0.323, Accuracy: 0.938\n",
      "Epoch 54/200, Loss: 0.511, Accuracy: 0.781\n",
      "Epoch 55/200, Loss: 0.304, Accuracy: 0.875\n",
      "Epoch 56/200, Loss: 0.553, Accuracy: 0.750\n",
      "Epoch 57/200, Loss: 0.371, Accuracy: 0.781\n",
      "Epoch 58/200, Loss: 0.580, Accuracy: 0.750\n",
      "Epoch 59/200, Loss: 0.353, Accuracy: 0.844\n",
      "Epoch 60/200, Loss: 0.383, Accuracy: 0.781\n",
      "Epoch 61/200, Loss: 0.525, Accuracy: 0.812\n",
      "Epoch 62/200, Loss: 0.266, Accuracy: 0.844\n",
      "Epoch 63/200, Loss: 0.374, Accuracy: 0.750\n",
      "Epoch 64/200, Loss: 0.353, Accuracy: 0.844\n",
      "Epoch 65/200, Loss: 0.381, Accuracy: 0.812\n",
      "Epoch 66/200, Loss: 0.420, Accuracy: 0.875\n",
      "Epoch 67/200, Loss: 0.392, Accuracy: 0.844\n",
      "Epoch 68/200, Loss: 0.548, Accuracy: 0.688\n",
      "Epoch 69/200, Loss: 0.256, Accuracy: 0.906\n",
      "Epoch 70/200, Loss: 0.374, Accuracy: 0.781\n",
      "Epoch 71/200, Loss: 0.448, Accuracy: 0.844\n",
      "Epoch 72/200, Loss: 0.335, Accuracy: 0.812\n",
      "Epoch 73/200, Loss: 0.370, Accuracy: 0.781\n",
      "Epoch 74/200, Loss: 0.286, Accuracy: 0.906\n",
      "Epoch 75/200, Loss: 0.345, Accuracy: 0.844\n",
      "Epoch 76/200, Loss: 0.378, Accuracy: 0.781\n",
      "Epoch 77/200, Loss: 0.344, Accuracy: 0.906\n",
      "Epoch 78/200, Loss: 0.232, Accuracy: 0.938\n",
      "Epoch 79/200, Loss: 0.431, Accuracy: 0.719\n",
      "Epoch 80/200, Loss: 0.515, Accuracy: 0.781\n",
      "Epoch 81/200, Loss: 0.816, Accuracy: 0.625\n",
      "Epoch 82/200, Loss: 0.496, Accuracy: 0.750\n",
      "Epoch 83/200, Loss: 0.631, Accuracy: 0.625\n",
      "Epoch 84/200, Loss: 0.321, Accuracy: 0.844\n",
      "Epoch 85/200, Loss: 0.338, Accuracy: 0.906\n",
      "Epoch 86/200, Loss: 0.460, Accuracy: 0.812\n",
      "Epoch 87/200, Loss: 0.467, Accuracy: 0.719\n",
      "Epoch 88/200, Loss: 0.424, Accuracy: 0.750\n",
      "Epoch 89/200, Loss: 0.583, Accuracy: 0.719\n",
      "Epoch 90/200, Loss: 0.484, Accuracy: 0.781\n",
      "Epoch 91/200, Loss: 0.484, Accuracy: 0.750\n",
      "Epoch 92/200, Loss: 0.394, Accuracy: 0.750\n",
      "Epoch 93/200, Loss: 0.332, Accuracy: 0.812\n",
      "Epoch 94/200, Loss: 0.359, Accuracy: 0.781\n",
      "Epoch 95/200, Loss: 0.395, Accuracy: 0.781\n",
      "Epoch 96/200, Loss: 0.398, Accuracy: 0.875\n",
      "Epoch 97/200, Loss: 0.372, Accuracy: 0.875\n",
      "Epoch 98/200, Loss: 0.614, Accuracy: 0.750\n",
      "Epoch 99/200, Loss: 0.295, Accuracy: 0.812\n",
      "Epoch 100/200, Loss: 0.404, Accuracy: 0.812\n",
      "Epoch 101/200, Loss: 0.440, Accuracy: 0.750\n",
      "Epoch 102/200, Loss: 0.272, Accuracy: 0.906\n",
      "Epoch 103/200, Loss: 0.637, Accuracy: 0.656\n",
      "Epoch 104/200, Loss: 0.372, Accuracy: 0.844\n",
      "Epoch 105/200, Loss: 0.439, Accuracy: 0.875\n",
      "Epoch 106/200, Loss: 0.478, Accuracy: 0.719\n",
      "Epoch 107/200, Loss: 0.300, Accuracy: 0.812\n",
      "Epoch 108/200, Loss: 0.379, Accuracy: 0.719\n",
      "Epoch 109/200, Loss: 0.474, Accuracy: 0.719\n",
      "Epoch 110/200, Loss: 0.546, Accuracy: 0.719\n",
      "Epoch 111/200, Loss: 0.326, Accuracy: 0.844\n",
      "Epoch 112/200, Loss: 0.389, Accuracy: 0.812\n",
      "Epoch 113/200, Loss: 0.469, Accuracy: 0.875\n",
      "Epoch 114/200, Loss: 0.441, Accuracy: 0.750\n",
      "Epoch 115/200, Loss: 0.357, Accuracy: 0.875\n",
      "Epoch 116/200, Loss: 0.234, Accuracy: 0.844\n",
      "Epoch 117/200, Loss: 0.216, Accuracy: 0.969\n",
      "Epoch 118/200, Loss: 0.586, Accuracy: 0.750\n",
      "Epoch 119/200, Loss: 0.354, Accuracy: 0.844\n",
      "Epoch 120/200, Loss: 0.213, Accuracy: 0.906\n",
      "Epoch 121/200, Loss: 0.594, Accuracy: 0.594\n",
      "Epoch 122/200, Loss: 0.396, Accuracy: 0.812\n",
      "Epoch 123/200, Loss: 0.301, Accuracy: 0.812\n",
      "Epoch 124/200, Loss: 0.742, Accuracy: 0.656\n",
      "Epoch 125/200, Loss: 0.341, Accuracy: 0.844\n",
      "Epoch 126/200, Loss: 0.498, Accuracy: 0.750\n",
      "Epoch 127/200, Loss: 0.431, Accuracy: 0.812\n",
      "Epoch 128/200, Loss: 0.319, Accuracy: 0.875\n",
      "Epoch 129/200, Loss: 0.402, Accuracy: 0.812\n",
      "Epoch 130/200, Loss: 0.405, Accuracy: 0.781\n",
      "Epoch 131/200, Loss: 0.554, Accuracy: 0.688\n",
      "Epoch 132/200, Loss: 0.262, Accuracy: 0.844\n",
      "Epoch 133/200, Loss: 0.381, Accuracy: 0.812\n",
      "Epoch 134/200, Loss: 0.396, Accuracy: 0.812\n",
      "Epoch 135/200, Loss: 0.464, Accuracy: 0.781\n",
      "Epoch 136/200, Loss: 0.556, Accuracy: 0.719\n",
      "Epoch 137/200, Loss: 0.364, Accuracy: 0.781\n",
      "Epoch 138/200, Loss: 0.443, Accuracy: 0.812\n",
      "Epoch 139/200, Loss: 0.512, Accuracy: 0.688\n",
      "Epoch 140/200, Loss: 0.190, Accuracy: 0.938\n",
      "Epoch 141/200, Loss: 0.391, Accuracy: 0.750\n",
      "Epoch 142/200, Loss: 0.501, Accuracy: 0.688\n",
      "Epoch 143/200, Loss: 0.272, Accuracy: 0.844\n",
      "Epoch 144/200, Loss: 0.381, Accuracy: 0.844\n",
      "Epoch 145/200, Loss: 0.534, Accuracy: 0.719\n",
      "Epoch 146/200, Loss: 0.405, Accuracy: 0.781\n",
      "Epoch 147/200, Loss: 0.626, Accuracy: 0.656\n",
      "Epoch 148/200, Loss: 0.366, Accuracy: 0.812\n",
      "Epoch 149/200, Loss: 0.452, Accuracy: 0.750\n",
      "Epoch 150/200, Loss: 0.361, Accuracy: 0.781\n",
      "Epoch 151/200, Loss: 0.474, Accuracy: 0.750\n",
      "Epoch 152/200, Loss: 0.313, Accuracy: 0.844\n",
      "Epoch 153/200, Loss: 0.406, Accuracy: 0.750\n",
      "Epoch 154/200, Loss: 0.369, Accuracy: 0.844\n",
      "Epoch 155/200, Loss: 0.350, Accuracy: 0.781\n",
      "Epoch 156/200, Loss: 0.393, Accuracy: 0.844\n",
      "Epoch 157/200, Loss: 0.496, Accuracy: 0.750\n",
      "Epoch 158/200, Loss: 0.379, Accuracy: 0.844\n",
      "Epoch 159/200, Loss: 0.479, Accuracy: 0.719\n",
      "Epoch 160/200, Loss: 0.435, Accuracy: 0.688\n",
      "Epoch 161/200, Loss: 0.327, Accuracy: 0.781\n",
      "Epoch 162/200, Loss: 0.399, Accuracy: 0.875\n",
      "Epoch 163/200, Loss: 0.440, Accuracy: 0.781\n",
      "Epoch 164/200, Loss: 0.272, Accuracy: 0.844\n",
      "Epoch 165/200, Loss: 0.281, Accuracy: 0.781\n",
      "Epoch 166/200, Loss: 0.487, Accuracy: 0.781\n",
      "Epoch 167/200, Loss: 0.404, Accuracy: 0.719\n",
      "Epoch 168/200, Loss: 0.290, Accuracy: 0.719\n",
      "Epoch 169/200, Loss: 0.378, Accuracy: 0.750\n",
      "Epoch 170/200, Loss: 0.376, Accuracy: 0.781\n",
      "Epoch 171/200, Loss: 0.331, Accuracy: 0.781\n",
      "Epoch 172/200, Loss: 0.546, Accuracy: 0.750\n",
      "Epoch 173/200, Loss: 0.506, Accuracy: 0.719\n",
      "Epoch 174/200, Loss: 0.428, Accuracy: 0.750\n",
      "Epoch 175/200, Loss: 0.434, Accuracy: 0.844\n",
      "Epoch 176/200, Loss: 0.460, Accuracy: 0.781\n",
      "Epoch 177/200, Loss: 0.307, Accuracy: 0.750\n",
      "Epoch 178/200, Loss: 0.297, Accuracy: 0.875\n",
      "Epoch 179/200, Loss: 0.324, Accuracy: 0.906\n",
      "Epoch 180/200, Loss: 0.328, Accuracy: 0.781\n",
      "Epoch 181/200, Loss: 0.364, Accuracy: 0.844\n",
      "Epoch 182/200, Loss: 0.406, Accuracy: 0.719\n",
      "Epoch 183/200, Loss: 0.360, Accuracy: 0.812\n",
      "Epoch 184/200, Loss: 0.299, Accuracy: 0.781\n",
      "Epoch 185/200, Loss: 0.242, Accuracy: 0.906\n",
      "Epoch 186/200, Loss: 0.362, Accuracy: 0.906\n",
      "Epoch 187/200, Loss: 0.286, Accuracy: 0.875\n",
      "Epoch 188/200, Loss: 0.435, Accuracy: 0.750\n",
      "Epoch 189/200, Loss: 0.269, Accuracy: 0.906\n",
      "Epoch 190/200, Loss: 0.458, Accuracy: 0.781\n",
      "Epoch 191/200, Loss: 0.724, Accuracy: 0.750\n",
      "Epoch 192/200, Loss: 0.492, Accuracy: 0.812\n",
      "Epoch 193/200, Loss: 0.290, Accuracy: 0.906\n",
      "Epoch 194/200, Loss: 0.442, Accuracy: 0.812\n",
      "Epoch 195/200, Loss: 0.399, Accuracy: 0.812\n",
      "Epoch 196/200, Loss: 0.463, Accuracy: 0.719\n",
      "Epoch 197/200, Loss: 0.310, Accuracy: 0.750\n",
      "Epoch 198/200, Loss: 0.294, Accuracy: 0.906\n",
      "Epoch 199/200, Loss: 0.460, Accuracy: 0.750\n",
      "Epoch 200/200, Loss: 0.449, Accuracy: 0.875\n"
     ]
    }
   ],
   "source": [
    "epochs = 200\n",
    "\n",
    "for epoch in range(epochs):\n",
    "    for inputs, labels in train_loader:\n",
    "        inputs = inputs.float()\n",
    "        labels = labels.float()\n",
    "        \n",
    "        #forward prop\n",
    "        outputs = net(inputs)\n",
    "        \n",
    "        #loss\n",
    "        loss = criterion(outputs, labels)\n",
    "        \n",
    "        #clear gradient buffer\n",
    "        optimizer.zero_grad()\n",
    "        \n",
    "        #backprop - calculates matrix of gradients\n",
    "        loss.backward()\n",
    "        \n",
    "        #update weights --> w = w - lr*gradients\n",
    "        optimizer.step()\n",
    "        \n",
    "    #accuracy\n",
    "    output = (outputs > 0.5).float()\n",
    "    accuracy = (output == labels).float().mean()\n",
    "    \n",
    "    #print stats\n",
    "    print(f'Epoch {epoch+1}/{epochs}, Loss: {loss:.3f}, Accuracy: {accuracy:.3f}')"
   ]
  },
  {
   "cell_type": "code",
   "execution_count": 15,
   "id": "6ac4fed3",
   "metadata": {},
   "outputs": [
    {
     "name": "stdout",
     "output_type": "stream",
     "text": [
      "final accuracy = 87.5\n"
     ]
    }
   ],
   "source": [
    "print(f'final accuracy = {accuracy*100}')"
   ]
  }
 ],
 "metadata": {
  "kernelspec": {
   "display_name": "Python 3 (ipykernel)",
   "language": "python",
   "name": "python3"
  },
  "language_info": {
   "codemirror_mode": {
    "name": "ipython",
    "version": 3
   },
   "file_extension": ".py",
   "mimetype": "text/x-python",
   "name": "python",
   "nbconvert_exporter": "python",
   "pygments_lexer": "ipython3",
   "version": "3.9.13"
  }
 },
 "nbformat": 4,
 "nbformat_minor": 5
}
