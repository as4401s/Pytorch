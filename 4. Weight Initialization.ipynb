{
 "cells": [
  {
   "cell_type": "code",
   "execution_count": 1,
   "id": "56a54974",
   "metadata": {},
   "outputs": [],
   "source": [
    "import torch\n",
    "import torch.nn as nn"
   ]
  },
  {
   "cell_type": "code",
   "execution_count": 2,
   "id": "ca055876",
   "metadata": {},
   "outputs": [
    {
     "data": {
      "text/plain": [
       "True"
      ]
     },
     "execution_count": 2,
     "metadata": {},
     "output_type": "execute_result"
    }
   ],
   "source": [
    "torch.cuda.is_available()"
   ]
  },
  {
   "cell_type": "code",
   "execution_count": 3,
   "id": "fca5cddb",
   "metadata": {},
   "outputs": [
    {
     "data": {
      "text/plain": [
       "Linear(in_features=5, out_features=5, bias=True)"
      ]
     },
     "execution_count": 3,
     "metadata": {},
     "output_type": "execute_result"
    }
   ],
   "source": [
    "layer = nn.Linear(5,5)\n",
    "layer"
   ]
  },
  {
   "cell_type": "code",
   "execution_count": 4,
   "id": "7274202b",
   "metadata": {},
   "outputs": [
    {
     "data": {
      "text/plain": [
       "Parameter containing:\n",
       "tensor([[ 0.3325, -0.3599, -0.0105, -0.2500,  0.3661],\n",
       "        [ 0.0626, -0.2429,  0.3704, -0.0439,  0.1445],\n",
       "        [ 0.0402, -0.4137, -0.3642,  0.0893, -0.3610],\n",
       "        [-0.3015,  0.3203,  0.3859,  0.1413,  0.1533],\n",
       "        [-0.1174, -0.2870, -0.3577,  0.3530,  0.0379]], requires_grad=True)"
      ]
     },
     "execution_count": 4,
     "metadata": {},
     "output_type": "execute_result"
    }
   ],
   "source": [
    "layer.weight"
   ]
  },
  {
   "cell_type": "code",
   "execution_count": 5,
   "id": "f15c1b01",
   "metadata": {},
   "outputs": [
    {
     "data": {
      "text/plain": [
       "tensor([[1.9866, 2.1209, 2.1052, 1.4604, 1.2463],\n",
       "        [1.3421, 0.3059, 2.2064, 2.6182, 2.7865],\n",
       "        [0.1132, 1.2729, 2.9568, 1.8544, 2.5560],\n",
       "        [2.9542, 2.0698, 2.3156, 1.9829, 0.7401],\n",
       "        [2.5847, 2.5860, 2.3612, 1.9527, 1.5320]])"
      ]
     },
     "execution_count": 5,
     "metadata": {},
     "output_type": "execute_result"
    }
   ],
   "source": [
    "#uniform distribution\n",
    "nn.init.uniform_(layer.weight.data, a=0.0, b=3.0)"
   ]
  },
  {
   "cell_type": "code",
   "execution_count": 6,
   "id": "b7e6ddde",
   "metadata": {},
   "outputs": [
    {
     "data": {
      "text/plain": [
       "Parameter containing:\n",
       "tensor([[ 0.2799, -0.8316, -0.2785, -0.0735,  0.2703],\n",
       "        [ 0.8958,  2.5269, -1.4252,  1.5760, -0.1690],\n",
       "        [ 1.5028, -0.4122, -1.3252,  0.6333,  0.5623],\n",
       "        [-0.5960, -0.8806,  0.9743,  1.0767,  1.0813],\n",
       "        [ 0.3796, -0.0613,  0.6445, -0.1897,  1.2156]], requires_grad=True)"
      ]
     },
     "execution_count": 6,
     "metadata": {},
     "output_type": "execute_result"
    }
   ],
   "source": [
    "#normal distribution\n",
    "nn.init.normal_(layer.weight, mean= 0.0, std=1.0)"
   ]
  },
  {
   "cell_type": "code",
   "execution_count": 7,
   "id": "25ae3ecc",
   "metadata": {},
   "outputs": [
    {
     "data": {
      "text/plain": [
       "Parameter containing:\n",
       "tensor([[ 0.0840, -0.1249,  0.1537, -0.3658,  0.0924],\n",
       "        [-0.1892, -0.0478, -0.0241, -0.1603,  0.5313],\n",
       "        [ 0.2085, -0.0387, -0.0845,  0.4934, -0.2197],\n",
       "        [-0.3314, -0.1068,  0.0729, -0.2686, -0.0719],\n",
       "        [ 0.2401,  0.2734,  0.1641, -0.1913,  0.0014]], requires_grad=True)"
      ]
     },
     "execution_count": 7,
     "metadata": {},
     "output_type": "execute_result"
    }
   ],
   "source": [
    "nn.init.normal_(layer.weight, mean = 0.0, std = 0.2)"
   ]
  },
  {
   "cell_type": "code",
   "execution_count": 9,
   "id": "e9479250",
   "metadata": {},
   "outputs": [
    {
     "data": {
      "text/plain": [
       "Parameter containing:\n",
       "tensor([0., 0., 0., 0., 0.], requires_grad=True)"
      ]
     },
     "execution_count": 9,
     "metadata": {},
     "output_type": "execute_result"
    }
   ],
   "source": [
    "#constant\n",
    "nn.init.constant_(layer.bias, 0)"
   ]
  },
  {
   "cell_type": "code",
   "execution_count": 10,
   "id": "52ac7e0c",
   "metadata": {},
   "outputs": [
    {
     "data": {
      "text/plain": [
       "Parameter containing:\n",
       "tensor([0., 0., 0., 0., 0.], requires_grad=True)"
      ]
     },
     "execution_count": 10,
     "metadata": {},
     "output_type": "execute_result"
    }
   ],
   "source": [
    "nn.init.zeros_(layer.bias)"
   ]
  },
  {
   "cell_type": "code",
   "execution_count": 11,
   "id": "2839da7f",
   "metadata": {},
   "outputs": [
    {
     "data": {
      "text/plain": [
       "Parameter containing:\n",
       "tensor([[-0.0018,  0.2218,  0.1433, -0.7586,  0.5858],\n",
       "        [ 0.4991, -0.6069, -0.1622, -0.9429, -0.0938],\n",
       "        [ 0.1491, -0.0565,  0.3638,  0.4095, -0.5439],\n",
       "        [-0.0854, -0.5832,  0.0540,  0.4210, -0.2302],\n",
       "        [-1.3041,  0.4803, -0.3119,  0.2887, -0.2050]], requires_grad=True)"
      ]
     },
     "execution_count": 11,
     "metadata": {},
     "output_type": "execute_result"
    }
   ],
   "source": [
    "nn.init.xavier_normal_(layer.weight, gain=1.0)"
   ]
  }
 ],
 "metadata": {
  "kernelspec": {
   "display_name": "Python 3 (ipykernel)",
   "language": "python",
   "name": "python3"
  },
  "language_info": {
   "codemirror_mode": {
    "name": "ipython",
    "version": 3
   },
   "file_extension": ".py",
   "mimetype": "text/x-python",
   "name": "python",
   "nbconvert_exporter": "python",
   "pygments_lexer": "ipython3",
   "version": "3.9.13"
  }
 },
 "nbformat": 4,
 "nbformat_minor": 5
}
