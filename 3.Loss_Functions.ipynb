{
 "cells": [
  {
   "cell_type": "markdown",
   "id": "ada784f1-5220-44dd-89a8-66a6d0e3c660",
   "metadata": {},
   "source": [
    "# MSE LOSS"
   ]
  },
  {
   "cell_type": "markdown",
   "id": "b1bb76bf-5489-4274-bd97-d1a504183505",
   "metadata": {},
   "source": [
    "### Using torch"
   ]
  },
  {
   "cell_type": "code",
   "execution_count": 1,
   "id": "f362405d-ec1c-4aa0-9a83-cc19754ada39",
   "metadata": {},
   "outputs": [
    {
     "name": "stdout",
     "output_type": "stream",
     "text": [
      "True\n"
     ]
    }
   ],
   "source": [
    "import torch\n",
    "import torch.nn as nn\n",
    "\n",
    "print(torch.cuda.is_available())"
   ]
  },
  {
   "cell_type": "code",
   "execution_count": 2,
   "id": "1a7f2bd9-d45e-4b86-ad95-4711689d4fbd",
   "metadata": {},
   "outputs": [
    {
     "data": {
      "text/plain": [
       "tensor([[ 0.7952,  0.1419,  0.3281, -0.1781,  0.5669],\n",
       "        [-1.1725,  0.3707, -1.4892,  0.2406,  0.8538],\n",
       "        [-0.4485,  1.4588, -0.3751,  1.2651,  0.0466],\n",
       "        [ 0.7564, -0.0640, -1.0265,  0.6220,  0.5277]])"
      ]
     },
     "execution_count": 2,
     "metadata": {},
     "output_type": "execute_result"
    }
   ],
   "source": [
    "prediction = torch.randn(4,5)\n",
    "prediction"
   ]
  },
  {
   "cell_type": "code",
   "execution_count": 3,
   "id": "c416fd55-f451-4af7-b1db-d5240f3711a2",
   "metadata": {},
   "outputs": [
    {
     "data": {
      "text/plain": [
       "tensor([[ 0.6273,  0.2236,  0.1510,  0.4271,  0.0852],\n",
       "        [ 0.2026, -0.3666, -0.9561, -0.3828, -0.1672],\n",
       "        [-0.3047, -1.0763, -0.0252, -0.1805,  0.2118],\n",
       "        [-0.1181, -1.5907, -0.0306,  1.2357,  0.1331]])"
      ]
     },
     "execution_count": 3,
     "metadata": {},
     "output_type": "execute_result"
    }
   ],
   "source": [
    "label = torch.randn(4,5)\n",
    "label"
   ]
  },
  {
   "cell_type": "code",
   "execution_count": 4,
   "id": "00265b79-c41b-4da8-b3ab-35dbe71b2406",
   "metadata": {},
   "outputs": [
    {
     "data": {
      "text/plain": [
       "tensor(0.9061)"
      ]
     },
     "execution_count": 4,
     "metadata": {},
     "output_type": "execute_result"
    }
   ],
   "source": [
    "mse = nn.MSELoss(reduction='mean')\n",
    "loss = mse(prediction,label)\n",
    "loss"
   ]
  },
  {
   "cell_type": "markdown",
   "id": "0171dad8-cac0-48b9-905b-369d3d4b0248",
   "metadata": {},
   "source": [
    "### No torch"
   ]
  },
  {
   "cell_type": "code",
   "execution_count": 5,
   "id": "729c9a5f-e2ef-4c7e-a151-60f83e697451",
   "metadata": {},
   "outputs": [
    {
     "data": {
      "text/plain": [
       "tensor(0.9061)"
      ]
     },
     "execution_count": 5,
     "metadata": {},
     "output_type": "execute_result"
    }
   ],
   "source": [
    "mse_2 = ((label-prediction)**2).mean()\n",
    "mse_2"
   ]
  },
  {
   "cell_type": "markdown",
   "id": "6b9af284-94c8-408c-a95e-e24b42d59c36",
   "metadata": {},
   "source": [
    "# Binary Cross-entropy loss"
   ]
  },
  {
   "cell_type": "markdown",
   "id": "8dd9e59c-f2f0-45ef-a528-d2c2f48a69c3",
   "metadata": {},
   "source": [
    "### Using torch"
   ]
  },
  {
   "cell_type": "code",
   "execution_count": 6,
   "id": "c141664f-eb01-49f2-860e-27155f7d3016",
   "metadata": {},
   "outputs": [
    {
     "data": {
      "text/plain": [
       "tensor([[ 1.6194e+00, -1.8278e+00,  8.5772e-01,  1.4382e+00,  1.3110e+00],\n",
       "        [ 6.3131e-01,  9.9555e-03,  8.6269e-01,  1.2368e-01,  8.5791e-01],\n",
       "        [-1.0380e+00, -5.3850e-01, -1.3660e+00,  6.1362e-01,  6.5805e-01],\n",
       "        [ 8.9559e-04,  1.4919e-01,  3.2823e-01, -1.4508e+00,  9.5693e-02]])"
      ]
     },
     "execution_count": 6,
     "metadata": {},
     "output_type": "execute_result"
    }
   ],
   "source": [
    "prediction = torch.randn(4,5)\n",
    "prediction"
   ]
  },
  {
   "cell_type": "code",
   "execution_count": 7,
   "id": "bea88c1e-0354-49b6-9763-443e86de7969",
   "metadata": {},
   "outputs": [
    {
     "data": {
      "text/plain": [
       "tensor([[0., 1., 1., 0., 1.],\n",
       "        [1., 0., 1., 1., 0.],\n",
       "        [0., 1., 1., 1., 0.],\n",
       "        [1., 1., 1., 0., 0.]])"
      ]
     },
     "execution_count": 7,
     "metadata": {},
     "output_type": "execute_result"
    }
   ],
   "source": [
    "labels = torch.zeros(4,5).random_(0,2)\n",
    "labels"
   ]
  },
  {
   "cell_type": "code",
   "execution_count": 8,
   "id": "e58ec569-f384-4f54-9ca0-2224b48e51bb",
   "metadata": {},
   "outputs": [],
   "source": [
    "sigmoid = nn.Sigmoid()"
   ]
  },
  {
   "cell_type": "code",
   "execution_count": 9,
   "id": "edc3727e-d70e-4c4d-ab7a-7a7c0e401bf8",
   "metadata": {},
   "outputs": [],
   "source": [
    "bce_loss = nn.BCELoss(reduction='mean')"
   ]
  },
  {
   "cell_type": "code",
   "execution_count": 10,
   "id": "d45f064f-3379-48c2-836c-05861b0afd0a",
   "metadata": {},
   "outputs": [
    {
     "data": {
      "text/plain": [
       "tensor(0.9099)"
      ]
     },
     "execution_count": 10,
     "metadata": {},
     "output_type": "execute_result"
    }
   ],
   "source": [
    "loss = bce_loss(sigmoid(prediction),label)\n",
    "loss"
   ]
  },
  {
   "cell_type": "code",
   "execution_count": 11,
   "id": "6fda7cdd-cf9e-490f-a6c8-a85cbd6a8b58",
   "metadata": {},
   "outputs": [
    {
     "data": {
      "text/plain": [
       "tensor(0.8277)"
      ]
     },
     "execution_count": 11,
     "metadata": {},
     "output_type": "execute_result"
    }
   ],
   "source": [
    "# with logits\n",
    "\n",
    "bce_logits = nn.BCEWithLogitsLoss(reduction='mean')\n",
    "loss = bce_logits(prediction,labels)                          #no need for sigmoid\n",
    "loss"
   ]
  },
  {
   "cell_type": "markdown",
   "id": "752eb83e-d8fc-4b3a-a2a2-d5991ea7c756",
   "metadata": {},
   "source": [
    "### no torch"
   ]
  },
  {
   "cell_type": "code",
   "execution_count": 12,
   "id": "b2653ac9-070a-495c-b5d3-2d433741dfa3",
   "metadata": {},
   "outputs": [],
   "source": [
    "import numpy as np\n",
    "\n",
    "def sigmoid(x):\n",
    "    return 1/(1+np.exp(-x))\n",
    "\n",
    "x = prediction.numpy()\n",
    "x = sigmoid(x)\n",
    "\n",
    "y = label.numpy()"
   ]
  },
  {
   "cell_type": "code",
   "execution_count": 13,
   "id": "985928af-ea40-457b-93ee-d3e41d79d1e6",
   "metadata": {},
   "outputs": [
    {
     "data": {
      "text/plain": [
       "array([[0.83471876, 0.13850248, 0.70218503, 0.80817556, 0.78768194],\n",
       "       [0.6527871 , 0.50248885, 0.7032232 , 0.53087986, 0.70222396],\n",
       "       [0.26154312, 0.36853635, 0.20326927, 0.64876693, 0.65882146],\n",
       "       [0.5002239 , 0.5372296 , 0.58132946, 0.18987525, 0.5239051 ]],\n",
       "      dtype=float32)"
      ]
     },
     "execution_count": 13,
     "metadata": {},
     "output_type": "execute_result"
    }
   ],
   "source": [
    "x"
   ]
  },
  {
   "cell_type": "code",
   "execution_count": 14,
   "id": "885ed352-8cbb-4d22-a115-0bf5b3c7301f",
   "metadata": {},
   "outputs": [
    {
     "name": "stdout",
     "output_type": "stream",
     "text": [
      "0.8849826388856836\n"
     ]
    }
   ],
   "source": [
    "loss_values = []\n",
    "\n",
    "for i in range(len(y)):\n",
    "    \n",
    "    batch_loss = []\n",
    "    \n",
    "    for j in range(len(y[0])):\n",
    "        \n",
    "        if y[i][j] == 1:\n",
    "            loss = -np.log(x[i][j])\n",
    "            \n",
    "        else:\n",
    "            loss = -np.log(1-x[i][j])\n",
    "            \n",
    "        batch_loss.append(loss)\n",
    "    loss_values.append(batch_loss)\n",
    "\n",
    "print(np.mean(loss_values))"
   ]
  }
 ],
 "metadata": {
  "kernelspec": {
   "display_name": "Python 3",
   "language": "python",
   "name": "python3"
  },
  "language_info": {
   "codemirror_mode": {
    "name": "ipython",
    "version": 3
   },
   "file_extension": ".py",
   "mimetype": "text/x-python",
   "name": "python",
   "nbconvert_exporter": "python",
   "pygments_lexer": "ipython3",
   "version": "3.7.13"
  }
 },
 "nbformat": 4,
 "nbformat_minor": 5
}
